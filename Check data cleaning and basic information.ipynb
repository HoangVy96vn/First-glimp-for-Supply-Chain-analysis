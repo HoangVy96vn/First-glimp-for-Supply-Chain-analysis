{
 "cells": [
  {
   "cell_type": "code",
   "execution_count": 1,
   "id": "695d36d3",
   "metadata": {},
   "outputs": [],
   "source": [
    "import pandas as pd"
   ]
  },
  {
   "cell_type": "code",
   "execution_count": 2,
   "id": "007788ad",
   "metadata": {},
   "outputs": [
    {
     "data": {
      "text/html": [
       "<div>\n",
       "<style scoped>\n",
       "    .dataframe tbody tr th:only-of-type {\n",
       "        vertical-align: middle;\n",
       "    }\n",
       "\n",
       "    .dataframe tbody tr th {\n",
       "        vertical-align: top;\n",
       "    }\n",
       "\n",
       "    .dataframe thead th {\n",
       "        text-align: right;\n",
       "    }\n",
       "</style>\n",
       "<table border=\"1\" class=\"dataframe\">\n",
       "  <thead>\n",
       "    <tr style=\"text-align: right;\">\n",
       "      <th></th>\n",
       "      <th>Order No</th>\n",
       "      <th>Order Date</th>\n",
       "      <th>Line No</th>\n",
       "      <th>Ship To Address No</th>\n",
       "      <th>Item Code</th>\n",
       "      <th>Order Qty</th>\n",
       "      <th>Quantity Shipped</th>\n",
       "    </tr>\n",
       "  </thead>\n",
       "  <tbody>\n",
       "    <tr>\n",
       "      <th>0</th>\n",
       "      <td>528758</td>\n",
       "      <td>1/3/2019</td>\n",
       "      <td>1</td>\n",
       "      <td>1358538.0</td>\n",
       "      <td>111931</td>\n",
       "      <td>70.0</td>\n",
       "      <td>70.0</td>\n",
       "    </tr>\n",
       "    <tr>\n",
       "      <th>1</th>\n",
       "      <td>528791</td>\n",
       "      <td>1/3/2019</td>\n",
       "      <td>1</td>\n",
       "      <td>1254798.0</td>\n",
       "      <td>1029071</td>\n",
       "      <td>10.0</td>\n",
       "      <td>10.0</td>\n",
       "    </tr>\n",
       "    <tr>\n",
       "      <th>2</th>\n",
       "      <td>528791</td>\n",
       "      <td>1/3/2019</td>\n",
       "      <td>2</td>\n",
       "      <td>1254798.0</td>\n",
       "      <td>1033341</td>\n",
       "      <td>10.0</td>\n",
       "      <td>10.0</td>\n",
       "    </tr>\n",
       "    <tr>\n",
       "      <th>3</th>\n",
       "      <td>528791</td>\n",
       "      <td>1/3/2019</td>\n",
       "      <td>3</td>\n",
       "      <td>1254798.0</td>\n",
       "      <td>1040827</td>\n",
       "      <td>5.0</td>\n",
       "      <td>5.0</td>\n",
       "    </tr>\n",
       "    <tr>\n",
       "      <th>4</th>\n",
       "      <td>528791</td>\n",
       "      <td>1/3/2019</td>\n",
       "      <td>4</td>\n",
       "      <td>1254798.0</td>\n",
       "      <td>10106111</td>\n",
       "      <td>10.0</td>\n",
       "      <td>10.0</td>\n",
       "    </tr>\n",
       "    <tr>\n",
       "      <th>...</th>\n",
       "      <td>...</td>\n",
       "      <td>...</td>\n",
       "      <td>...</td>\n",
       "      <td>...</td>\n",
       "      <td>...</td>\n",
       "      <td>...</td>\n",
       "      <td>...</td>\n",
       "    </tr>\n",
       "    <tr>\n",
       "      <th>28310</th>\n",
       "      <td>543761</td>\n",
       "      <td>2/28/2019</td>\n",
       "      <td>1</td>\n",
       "      <td>43825307.0</td>\n",
       "      <td>113106</td>\n",
       "      <td>380.0</td>\n",
       "      <td>380.0</td>\n",
       "    </tr>\n",
       "    <tr>\n",
       "      <th>28311</th>\n",
       "      <td>543762</td>\n",
       "      <td>2/28/2019</td>\n",
       "      <td>1</td>\n",
       "      <td>1255123.0</td>\n",
       "      <td>113106</td>\n",
       "      <td>300.0</td>\n",
       "      <td>300.0</td>\n",
       "    </tr>\n",
       "    <tr>\n",
       "      <th>28312</th>\n",
       "      <td>543764</td>\n",
       "      <td>2/28/2019</td>\n",
       "      <td>2</td>\n",
       "      <td>43825307.0</td>\n",
       "      <td>10131275</td>\n",
       "      <td>400.0</td>\n",
       "      <td>400.0</td>\n",
       "    </tr>\n",
       "    <tr>\n",
       "      <th>28313</th>\n",
       "      <td>543765</td>\n",
       "      <td>2/28/2019</td>\n",
       "      <td>1</td>\n",
       "      <td>43825307.0</td>\n",
       "      <td>10131275</td>\n",
       "      <td>300.0</td>\n",
       "      <td>300.0</td>\n",
       "    </tr>\n",
       "    <tr>\n",
       "      <th>28314</th>\n",
       "      <td>543766</td>\n",
       "      <td>2/28/2019</td>\n",
       "      <td>2</td>\n",
       "      <td>1255123.0</td>\n",
       "      <td>10131275</td>\n",
       "      <td>100.0</td>\n",
       "      <td>100.0</td>\n",
       "    </tr>\n",
       "  </tbody>\n",
       "</table>\n",
       "<p>28315 rows × 7 columns</p>\n",
       "</div>"
      ],
      "text/plain": [
       "       Order No Order Date  Line No  Ship To Address No  Item Code  Order Qty  \\\n",
       "0        528758   1/3/2019        1           1358538.0     111931       70.0   \n",
       "1        528791   1/3/2019        1           1254798.0    1029071       10.0   \n",
       "2        528791   1/3/2019        2           1254798.0    1033341       10.0   \n",
       "3        528791   1/3/2019        3           1254798.0    1040827        5.0   \n",
       "4        528791   1/3/2019        4           1254798.0   10106111       10.0   \n",
       "...         ...        ...      ...                 ...        ...        ...   \n",
       "28310    543761  2/28/2019        1          43825307.0     113106      380.0   \n",
       "28311    543762  2/28/2019        1           1255123.0     113106      300.0   \n",
       "28312    543764  2/28/2019        2          43825307.0   10131275      400.0   \n",
       "28313    543765  2/28/2019        1          43825307.0   10131275      300.0   \n",
       "28314    543766  2/28/2019        2           1255123.0   10131275      100.0   \n",
       "\n",
       "       Quantity Shipped  \n",
       "0                  70.0  \n",
       "1                  10.0  \n",
       "2                  10.0  \n",
       "3                   5.0  \n",
       "4                  10.0  \n",
       "...                 ...  \n",
       "28310             380.0  \n",
       "28311             300.0  \n",
       "28312             400.0  \n",
       "28313             300.0  \n",
       "28314             100.0  \n",
       "\n",
       "[28315 rows x 7 columns]"
      ]
     },
     "execution_count": 2,
     "metadata": {},
     "output_type": "execute_result"
    }
   ],
   "source": [
    "#Get information of Sale file (df1)\n",
    "df1 = pd.read_csv('shipped_order.csv')\n",
    "df1"
   ]
  },
  {
   "cell_type": "code",
   "execution_count": 3,
   "id": "8fbddb7b",
   "metadata": {},
   "outputs": [
    {
     "data": {
      "text/plain": [
       "Order No              False\n",
       "Order Date            False\n",
       "Line No               False\n",
       "Ship To Address No    False\n",
       "Item Code             False\n",
       "Order Qty             False\n",
       "Quantity Shipped      False\n",
       "dtype: bool"
      ]
     },
     "execution_count": 3,
     "metadata": {},
     "output_type": "execute_result"
    }
   ],
   "source": [
    "df1.isna().any()"
   ]
  },
  {
   "cell_type": "code",
   "execution_count": 4,
   "id": "19f4c1ce",
   "metadata": {},
   "outputs": [
    {
     "data": {
      "text/plain": [
       "0        False\n",
       "1        False\n",
       "2        False\n",
       "3        False\n",
       "4        False\n",
       "         ...  \n",
       "28310    False\n",
       "28311    False\n",
       "28312    False\n",
       "28313    False\n",
       "28314    False\n",
       "Length: 28315, dtype: bool"
      ]
     },
     "execution_count": 4,
     "metadata": {},
     "output_type": "execute_result"
    }
   ],
   "source": [
    "df1.duplicated()"
   ]
  },
  {
   "cell_type": "code",
   "execution_count": 5,
   "id": "3ead91aa",
   "metadata": {},
   "outputs": [
    {
     "name": "stdout",
     "output_type": "stream",
     "text": [
      "9411\n"
     ]
    }
   ],
   "source": [
    "print(len(set(df1['Order No'])))"
   ]
  },
  {
   "cell_type": "code",
   "execution_count": 6,
   "id": "94b0380f",
   "metadata": {},
   "outputs": [
    {
     "name": "stdout",
     "output_type": "stream",
     "text": [
      "708\n"
     ]
    }
   ],
   "source": [
    "print(len(set(df1['Ship To Address No'])))"
   ]
  },
  {
   "cell_type": "code",
   "execution_count": 7,
   "id": "08ec0818",
   "metadata": {},
   "outputs": [
    {
     "name": "stdout",
     "output_type": "stream",
     "text": [
      "64\n"
     ]
    }
   ],
   "source": [
    "print(len(set(df1['Item Code'])))"
   ]
  },
  {
   "cell_type": "code",
   "execution_count": 8,
   "id": "852d4f31",
   "metadata": {},
   "outputs": [
    {
     "name": "stdout",
     "output_type": "stream",
     "text": [
      "47\n"
     ]
    }
   ],
   "source": [
    "print(len(set(df1['Line No'])))"
   ]
  },
  {
   "cell_type": "code",
   "execution_count": 9,
   "id": "e0b849c3",
   "metadata": {},
   "outputs": [
    {
     "data": {
      "text/plain": [
       "Order No                int64\n",
       "Order Date             object\n",
       "Line No                 int64\n",
       "Ship To Address No    float64\n",
       "Item Code               int64\n",
       "Order Qty             float64\n",
       "Quantity Shipped      float64\n",
       "dtype: object"
      ]
     },
     "execution_count": 9,
     "metadata": {},
     "output_type": "execute_result"
    }
   ],
   "source": [
    "df1.dtypes"
   ]
  },
  {
   "cell_type": "code",
   "execution_count": 10,
   "id": "5355d5c1",
   "metadata": {},
   "outputs": [
    {
     "data": {
      "text/plain": [
       "Order No                       int64\n",
       "Order Date            datetime64[ns]\n",
       "Line No                        int64\n",
       "Ship To Address No           float64\n",
       "Item Code                      int64\n",
       "Order Qty                    float64\n",
       "Quantity Shipped             float64\n",
       "dtype: object"
      ]
     },
     "execution_count": 10,
     "metadata": {},
     "output_type": "execute_result"
    }
   ],
   "source": [
    "#Concert to datetime for order date\n",
    "df1['Order Date'] = pd.to_datetime(df1['Order Date'])\n",
    "df1.dtypes"
   ]
  },
  {
   "cell_type": "code",
   "execution_count": 11,
   "id": "f6d19d67",
   "metadata": {},
   "outputs": [
    {
     "data": {
      "text/html": [
       "<div>\n",
       "<style scoped>\n",
       "    .dataframe tbody tr th:only-of-type {\n",
       "        vertical-align: middle;\n",
       "    }\n",
       "\n",
       "    .dataframe tbody tr th {\n",
       "        vertical-align: top;\n",
       "    }\n",
       "\n",
       "    .dataframe thead th {\n",
       "        text-align: right;\n",
       "    }\n",
       "</style>\n",
       "<table border=\"1\" class=\"dataframe\">\n",
       "  <thead>\n",
       "    <tr style=\"text-align: right;\">\n",
       "      <th></th>\n",
       "      <th>Order Number</th>\n",
       "      <th>Line Number</th>\n",
       "      <th>Order Date</th>\n",
       "      <th>Ship To Address No</th>\n",
       "      <th>Item Code</th>\n",
       "      <th>Quantity Ordered</th>\n",
       "      <th>Quantity Canceled</th>\n",
       "    </tr>\n",
       "  </thead>\n",
       "  <tbody>\n",
       "    <tr>\n",
       "      <th>0</th>\n",
       "      <td>528703</td>\n",
       "      <td>1</td>\n",
       "      <td>1/3/2019</td>\n",
       "      <td>1857566.0</td>\n",
       "      <td>10135139</td>\n",
       "      <td>1</td>\n",
       "      <td>1</td>\n",
       "    </tr>\n",
       "    <tr>\n",
       "      <th>1</th>\n",
       "      <td>528705</td>\n",
       "      <td>1</td>\n",
       "      <td>1/3/2019</td>\n",
       "      <td>1857566.0</td>\n",
       "      <td>10135140</td>\n",
       "      <td>1</td>\n",
       "      <td>1</td>\n",
       "    </tr>\n",
       "    <tr>\n",
       "      <th>2</th>\n",
       "      <td>528706</td>\n",
       "      <td>2</td>\n",
       "      <td>1/3/2019</td>\n",
       "      <td>1857566.0</td>\n",
       "      <td>10135138</td>\n",
       "      <td>1</td>\n",
       "      <td>1</td>\n",
       "    </tr>\n",
       "    <tr>\n",
       "      <th>3</th>\n",
       "      <td>528707</td>\n",
       "      <td>1</td>\n",
       "      <td>1/3/2019</td>\n",
       "      <td>1857566.0</td>\n",
       "      <td>10135132</td>\n",
       "      <td>1</td>\n",
       "      <td>1</td>\n",
       "    </tr>\n",
       "    <tr>\n",
       "      <th>4</th>\n",
       "      <td>528708</td>\n",
       "      <td>1</td>\n",
       "      <td>1/3/2019</td>\n",
       "      <td>1857566.0</td>\n",
       "      <td>10135359</td>\n",
       "      <td>1</td>\n",
       "      <td>1</td>\n",
       "    </tr>\n",
       "    <tr>\n",
       "      <th>...</th>\n",
       "      <td>...</td>\n",
       "      <td>...</td>\n",
       "      <td>...</td>\n",
       "      <td>...</td>\n",
       "      <td>...</td>\n",
       "      <td>...</td>\n",
       "      <td>...</td>\n",
       "    </tr>\n",
       "    <tr>\n",
       "      <th>3657</th>\n",
       "      <td>543485</td>\n",
       "      <td>8</td>\n",
       "      <td>2/25/2019</td>\n",
       "      <td>2203715.0</td>\n",
       "      <td>10135140</td>\n",
       "      <td>3</td>\n",
       "      <td>3</td>\n",
       "    </tr>\n",
       "    <tr>\n",
       "      <th>3658</th>\n",
       "      <td>543488</td>\n",
       "      <td>6</td>\n",
       "      <td>2/25/2019</td>\n",
       "      <td>2203449.0</td>\n",
       "      <td>1040468</td>\n",
       "      <td>2</td>\n",
       "      <td>2</td>\n",
       "    </tr>\n",
       "    <tr>\n",
       "      <th>3659</th>\n",
       "      <td>543488</td>\n",
       "      <td>7</td>\n",
       "      <td>2/25/2019</td>\n",
       "      <td>2203449.0</td>\n",
       "      <td>1040466</td>\n",
       "      <td>1</td>\n",
       "      <td>1</td>\n",
       "    </tr>\n",
       "    <tr>\n",
       "      <th>3660</th>\n",
       "      <td>543491</td>\n",
       "      <td>5</td>\n",
       "      <td>2/25/2019</td>\n",
       "      <td>2203449.0</td>\n",
       "      <td>10135358</td>\n",
       "      <td>21</td>\n",
       "      <td>21</td>\n",
       "    </tr>\n",
       "    <tr>\n",
       "      <th>3661</th>\n",
       "      <td>543491</td>\n",
       "      <td>9</td>\n",
       "      <td>2/25/2019</td>\n",
       "      <td>2203449.0</td>\n",
       "      <td>10135363</td>\n",
       "      <td>6</td>\n",
       "      <td>6</td>\n",
       "    </tr>\n",
       "  </tbody>\n",
       "</table>\n",
       "<p>3662 rows × 7 columns</p>\n",
       "</div>"
      ],
      "text/plain": [
       "      Order Number  Line Number Order Date  Ship To Address No  Item Code  \\\n",
       "0           528703            1   1/3/2019           1857566.0   10135139   \n",
       "1           528705            1   1/3/2019           1857566.0   10135140   \n",
       "2           528706            2   1/3/2019           1857566.0   10135138   \n",
       "3           528707            1   1/3/2019           1857566.0   10135132   \n",
       "4           528708            1   1/3/2019           1857566.0   10135359   \n",
       "...            ...          ...        ...                 ...        ...   \n",
       "3657        543485            8  2/25/2019           2203715.0   10135140   \n",
       "3658        543488            6  2/25/2019           2203449.0    1040468   \n",
       "3659        543488            7  2/25/2019           2203449.0    1040466   \n",
       "3660        543491            5  2/25/2019           2203449.0   10135358   \n",
       "3661        543491            9  2/25/2019           2203449.0   10135363   \n",
       "\n",
       "      Quantity Ordered  Quantity Canceled  \n",
       "0                    1                  1  \n",
       "1                    1                  1  \n",
       "2                    1                  1  \n",
       "3                    1                  1  \n",
       "4                    1                  1  \n",
       "...                ...                ...  \n",
       "3657                 3                  3  \n",
       "3658                 2                  2  \n",
       "3659                 1                  1  \n",
       "3660                21                 21  \n",
       "3661                 6                  6  \n",
       "\n",
       "[3662 rows x 7 columns]"
      ]
     },
     "execution_count": 11,
     "metadata": {},
     "output_type": "execute_result"
    }
   ],
   "source": [
    "#Get information of Cancel file (df2)\n",
    "df2 = pd.read_csv('canceled_order.csv')\n",
    "df2"
   ]
  },
  {
   "cell_type": "code",
   "execution_count": 12,
   "id": "e2ea7ef7",
   "metadata": {},
   "outputs": [
    {
     "data": {
      "text/plain": [
       "Order Number            int64\n",
       "Line Number             int64\n",
       "Order Date             object\n",
       "Ship To Address No    float64\n",
       "Item Code               int64\n",
       "Quantity Ordered        int64\n",
       "Quantity Canceled       int64\n",
       "dtype: object"
      ]
     },
     "execution_count": 12,
     "metadata": {},
     "output_type": "execute_result"
    }
   ],
   "source": [
    "df2.dtypes"
   ]
  },
  {
   "cell_type": "code",
   "execution_count": 13,
   "id": "f00fa1ca",
   "metadata": {},
   "outputs": [
    {
     "data": {
      "text/plain": [
       "Order Number                   int64\n",
       "Line Number                    int64\n",
       "Order Date            datetime64[ns]\n",
       "Ship To Address No           float64\n",
       "Item Code                      int64\n",
       "Quantity Ordered               int64\n",
       "Quantity Canceled              int64\n",
       "dtype: object"
      ]
     },
     "execution_count": 13,
     "metadata": {},
     "output_type": "execute_result"
    }
   ],
   "source": [
    "#Convert datetime for order date\n",
    "df2['Order Date'] = pd.to_datetime(df2['Order Date'])\n",
    "df2.dtypes"
   ]
  },
  {
   "cell_type": "code",
   "execution_count": 14,
   "id": "03d22184",
   "metadata": {},
   "outputs": [
    {
     "data": {
      "text/plain": [
       "Order Number          False\n",
       "Line Number           False\n",
       "Order Date            False\n",
       "Ship To Address No    False\n",
       "Item Code             False\n",
       "Quantity Ordered      False\n",
       "Quantity Canceled     False\n",
       "dtype: bool"
      ]
     },
     "execution_count": 14,
     "metadata": {},
     "output_type": "execute_result"
    }
   ],
   "source": [
    "df2.isna().any()"
   ]
  },
  {
   "cell_type": "code",
   "execution_count": 15,
   "id": "78c6ede7",
   "metadata": {},
   "outputs": [
    {
     "data": {
      "text/plain": [
       "0       False\n",
       "1       False\n",
       "2       False\n",
       "3       False\n",
       "4       False\n",
       "        ...  \n",
       "3657    False\n",
       "3658    False\n",
       "3659    False\n",
       "3660    False\n",
       "3661    False\n",
       "Length: 3662, dtype: bool"
      ]
     },
     "execution_count": 15,
     "metadata": {},
     "output_type": "execute_result"
    }
   ],
   "source": [
    "df2.duplicated()"
   ]
  },
  {
   "cell_type": "code",
   "execution_count": 16,
   "id": "96a038ee",
   "metadata": {},
   "outputs": [
    {
     "name": "stdout",
     "output_type": "stream",
     "text": [
      "1925\n"
     ]
    }
   ],
   "source": [
    "print(len(set(df2['Order Number'])))"
   ]
  },
  {
   "cell_type": "code",
   "execution_count": 17,
   "id": "aa481587",
   "metadata": {},
   "outputs": [
    {
     "name": "stdout",
     "output_type": "stream",
     "text": [
      "27\n"
     ]
    }
   ],
   "source": [
    "print(len(set(df2['Line Number'])))"
   ]
  },
  {
   "cell_type": "code",
   "execution_count": 18,
   "id": "c8edba2c",
   "metadata": {},
   "outputs": [
    {
     "name": "stdout",
     "output_type": "stream",
     "text": [
      "605\n"
     ]
    }
   ],
   "source": [
    "print(len(set(df2['Ship To Address No'])))"
   ]
  },
  {
   "cell_type": "code",
   "execution_count": 19,
   "id": "36081355",
   "metadata": {},
   "outputs": [
    {
     "name": "stdout",
     "output_type": "stream",
     "text": [
      "73\n"
     ]
    }
   ],
   "source": [
    "print(len(set(df2['Item Code'])))"
   ]
  },
  {
   "cell_type": "markdown",
   "id": "b917239e",
   "metadata": {},
   "source": [
    "#Conclusion for sale file: \n",
    "- Sale file have 7 columns, 28 315 rows \n",
    "- Data clean - no NaN, do duplicate \n",
    "- Data type: done convert to datetime \n",
    "- Data set\n",
    "        47 Line \n",
    "        64 Item \n",
    "        708 Address/Customer \n",
    "        9411 Order \n",
    "\n",
    "#Conclusion for cancel file: \n",
    "- Cancel file have 7 columns, 3662 rows \n",
    "- Data clean - no NaN, do duplicate \n",
    "- Data type: done convert to datetime. 2 last columns different types vs Sale \n",
    "- data set: \n",
    "        27 Line -> 20 line no cancel \n",
    "        73 Item -> 9 item cancel rate = 100% \n",
    "        605 Address/Customer \n",
    "        1925 Order\n",
    "\n",
    "Analysis Purpose: Get initial understanding of customer Question:\n",
    "\n",
    "Daily/Period volume. Sale rate\n",
    "Their success rate/cancel rate\n",
    "Classify into categories of SKU criteria: %delivered/order and find which way to categorize SKU/Customer "
   ]
  },
  {
   "cell_type": "code",
   "execution_count": 20,
   "id": "1dfce4d6",
   "metadata": {},
   "outputs": [
    {
     "data": {
      "text/plain": [
       "Index(['Order No', 'Order Date', 'Line No', 'Ship To Address No', 'Item Code',\n",
       "       'Order Qty', 'Quantity Shipped'],\n",
       "      dtype='object')"
      ]
     },
     "execution_count": 20,
     "metadata": {},
     "output_type": "execute_result"
    }
   ],
   "source": [
    "df1.columns"
   ]
  },
  {
   "cell_type": "code",
   "execution_count": 21,
   "id": "21e2dfca",
   "metadata": {},
   "outputs": [
    {
     "data": {
      "text/plain": [
       "Index(['Order Number', 'Line Number', 'Order Date', 'Ship To Address No',\n",
       "       'Item Code', 'Quantity Ordered', 'Quantity Canceled'],\n",
       "      dtype='object')"
      ]
     },
     "execution_count": 21,
     "metadata": {},
     "output_type": "execute_result"
    }
   ],
   "source": [
    "df2.columns"
   ]
  },
  {
   "cell_type": "code",
   "execution_count": null,
   "id": "f90ac90c",
   "metadata": {},
   "outputs": [],
   "source": []
  }
 ],
 "metadata": {
  "kernelspec": {
   "display_name": "Python 3 (ipykernel)",
   "language": "python",
   "name": "python3"
  },
  "language_info": {
   "codemirror_mode": {
    "name": "ipython",
    "version": 3
   },
   "file_extension": ".py",
   "mimetype": "text/x-python",
   "name": "python",
   "nbconvert_exporter": "python",
   "pygments_lexer": "ipython3",
   "version": "3.9.13"
  }
 },
 "nbformat": 4,
 "nbformat_minor": 5
}
